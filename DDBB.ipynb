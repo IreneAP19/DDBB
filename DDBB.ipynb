{
 "cells": [
  {
   "cell_type": "code",
   "execution_count": 55,
   "metadata": {},
   "outputs": [],
   "source": [
    "import pandas as pd"
   ]
  },
  {
   "cell_type": "code",
   "execution_count": 79,
   "metadata": {},
   "outputs": [],
   "source": [
    "claus = pd.read_csv(\"data/claustro.csv\",sep = \";\")"
   ]
  },
  {
   "cell_type": "code",
   "execution_count": 134,
   "metadata": {},
   "outputs": [],
   "source": [
    "clase1=pd.read_csv(\"data/clase_1.csv\", sep =\";\")"
   ]
  },
  {
   "cell_type": "code",
   "execution_count": 135,
   "metadata": {},
   "outputs": [],
   "source": [
    "clase2=pd.read_csv(\"data/clase_2.csv\", sep =\";\")"
   ]
  },
  {
   "cell_type": "code",
   "execution_count": 136,
   "metadata": {},
   "outputs": [],
   "source": [
    "clase3=pd.read_csv(\"data/clase_3.csv\", sep =\";\")"
   ]
  },
  {
   "cell_type": "code",
   "execution_count": 137,
   "metadata": {},
   "outputs": [],
   "source": [
    "clase4=pd.read_csv(\"data/clase_4.csv\", sep =\";\")"
   ]
  },
  {
   "cell_type": "code",
   "execution_count": 57,
   "metadata": {},
   "outputs": [],
   "source": [
    "total_clases= pd.read_csv(\"data/total_clases.csv\")"
   ]
  },
  {
   "cell_type": "code",
   "execution_count": 80,
   "metadata": {},
   "outputs": [
    {
     "data": {
      "text/html": [
       "<div>\n",
       "<style scoped>\n",
       "    .dataframe tbody tr th:only-of-type {\n",
       "        vertical-align: middle;\n",
       "    }\n",
       "\n",
       "    .dataframe tbody tr th {\n",
       "        vertical-align: top;\n",
       "    }\n",
       "\n",
       "    .dataframe thead th {\n",
       "        text-align: right;\n",
       "    }\n",
       "</style>\n",
       "<table border=\"1\" class=\"dataframe\">\n",
       "  <thead>\n",
       "    <tr style=\"text-align: right;\">\n",
       "      <th></th>\n",
       "      <th>Nombre</th>\n",
       "      <th>Rol</th>\n",
       "      <th>Vertical</th>\n",
       "      <th>Promocion</th>\n",
       "      <th>Campus</th>\n",
       "      <th>Modalidad</th>\n",
       "    </tr>\n",
       "  </thead>\n",
       "  <tbody>\n",
       "    <tr>\n",
       "      <th>0</th>\n",
       "      <td>Noa Yáñez</td>\n",
       "      <td>TA</td>\n",
       "      <td>DS</td>\n",
       "      <td>Septiembre</td>\n",
       "      <td>Madrid</td>\n",
       "      <td>Presencial</td>\n",
       "    </tr>\n",
       "    <tr>\n",
       "      <th>1</th>\n",
       "      <td>Saturnina Benitez</td>\n",
       "      <td>TA</td>\n",
       "      <td>DS</td>\n",
       "      <td>Septiembre</td>\n",
       "      <td>Madrid</td>\n",
       "      <td>Presencial</td>\n",
       "    </tr>\n",
       "    <tr>\n",
       "      <th>2</th>\n",
       "      <td>Anna Feliu</td>\n",
       "      <td>TA</td>\n",
       "      <td>FS</td>\n",
       "      <td>Septiembre</td>\n",
       "      <td>Madrid</td>\n",
       "      <td>Presencial</td>\n",
       "    </tr>\n",
       "    <tr>\n",
       "      <th>3</th>\n",
       "      <td>Rosalva Ayuso</td>\n",
       "      <td>TA</td>\n",
       "      <td>FS</td>\n",
       "      <td>Septiembre</td>\n",
       "      <td>Valencia</td>\n",
       "      <td>Presencial</td>\n",
       "    </tr>\n",
       "    <tr>\n",
       "      <th>4</th>\n",
       "      <td>Ana Sofía Ferrer</td>\n",
       "      <td>TA</td>\n",
       "      <td>FS</td>\n",
       "      <td>Febrero</td>\n",
       "      <td>Valencia</td>\n",
       "      <td>Presencial</td>\n",
       "    </tr>\n",
       "  </tbody>\n",
       "</table>\n",
       "</div>"
      ],
      "text/plain": [
       "              Nombre Rol Vertical   Promocion    Campus   Modalidad\n",
       "0          Noa Yáñez  TA       DS  Septiembre    Madrid  Presencial\n",
       "1  Saturnina Benitez  TA       DS  Septiembre    Madrid  Presencial\n",
       "2         Anna Feliu  TA       FS  Septiembre    Madrid  Presencial\n",
       "3      Rosalva Ayuso  TA       FS  Septiembre  Valencia  Presencial\n",
       "4   Ana Sofía Ferrer  TA       FS     Febrero  Valencia  Presencial"
      ]
     },
     "execution_count": 80,
     "metadata": {},
     "output_type": "execute_result"
    }
   ],
   "source": [
    "claus.head()"
   ]
  },
  {
   "cell_type": "markdown",
   "metadata": {},
   "source": [
    "------------------"
   ]
  },
  {
   "cell_type": "markdown",
   "metadata": {},
   "source": [
    "--------------------------"
   ]
  },
  {
   "cell_type": "code",
   "execution_count": 59,
   "metadata": {},
   "outputs": [],
   "source": [
    "total_clases.drop(columns=\"Unnamed: 0\",inplace=True)"
   ]
  },
  {
   "cell_type": "code",
   "execution_count": 60,
   "metadata": {},
   "outputs": [
    {
     "data": {
      "text/html": [
       "<div>\n",
       "<style scoped>\n",
       "    .dataframe tbody tr th:only-of-type {\n",
       "        vertical-align: middle;\n",
       "    }\n",
       "\n",
       "    .dataframe tbody tr th {\n",
       "        vertical-align: top;\n",
       "    }\n",
       "\n",
       "    .dataframe thead th {\n",
       "        text-align: right;\n",
       "    }\n",
       "</style>\n",
       "<table border=\"1\" class=\"dataframe\">\n",
       "  <thead>\n",
       "    <tr style=\"text-align: right;\">\n",
       "      <th></th>\n",
       "      <th>Nombre</th>\n",
       "      <th>Email</th>\n",
       "      <th>Promoción</th>\n",
       "      <th>Fecha_comienzo</th>\n",
       "      <th>Campus</th>\n",
       "      <th>Proyecto</th>\n",
       "      <th>Calificación</th>\n",
       "    </tr>\n",
       "  </thead>\n",
       "  <tbody>\n",
       "    <tr>\n",
       "      <th>0</th>\n",
       "      <td>Jafet Casals</td>\n",
       "      <td>Jafet_Casals@gmail.com</td>\n",
       "      <td>Septiembre</td>\n",
       "      <td>18/09/2023</td>\n",
       "      <td>Madrid</td>\n",
       "      <td>Proyecto_HLF</td>\n",
       "      <td>Apto</td>\n",
       "    </tr>\n",
       "    <tr>\n",
       "      <th>1</th>\n",
       "      <td>Jorge Manzanares</td>\n",
       "      <td>Jorge_Manzanares@gmail.com</td>\n",
       "      <td>Septiembre</td>\n",
       "      <td>18/09/2023</td>\n",
       "      <td>Madrid</td>\n",
       "      <td>Proyecto_HLF</td>\n",
       "      <td>Apto</td>\n",
       "    </tr>\n",
       "    <tr>\n",
       "      <th>2</th>\n",
       "      <td>Onofre Adadia</td>\n",
       "      <td>Onofre_Adadia@gmail.com</td>\n",
       "      <td>Septiembre</td>\n",
       "      <td>18/09/2023</td>\n",
       "      <td>Madrid</td>\n",
       "      <td>Proyecto_HLF</td>\n",
       "      <td>Apto</td>\n",
       "    </tr>\n",
       "    <tr>\n",
       "      <th>3</th>\n",
       "      <td>Merche Prada</td>\n",
       "      <td>Merche_Prada@gmail.com</td>\n",
       "      <td>Septiembre</td>\n",
       "      <td>18/09/2023</td>\n",
       "      <td>Madrid</td>\n",
       "      <td>Proyecto_HLF</td>\n",
       "      <td>Apto</td>\n",
       "    </tr>\n",
       "    <tr>\n",
       "      <th>4</th>\n",
       "      <td>Pilar Abella</td>\n",
       "      <td>Pilar_Abella@gmail.com</td>\n",
       "      <td>Septiembre</td>\n",
       "      <td>18/09/2023</td>\n",
       "      <td>Madrid</td>\n",
       "      <td>Proyecto_HLF</td>\n",
       "      <td>Apto</td>\n",
       "    </tr>\n",
       "  </tbody>\n",
       "</table>\n",
       "</div>"
      ],
      "text/plain": [
       "             Nombre                       Email   Promoción Fecha_comienzo  \\\n",
       "0      Jafet Casals      Jafet_Casals@gmail.com  Septiembre     18/09/2023   \n",
       "1  Jorge Manzanares  Jorge_Manzanares@gmail.com  Septiembre     18/09/2023   \n",
       "2     Onofre Adadia     Onofre_Adadia@gmail.com  Septiembre     18/09/2023   \n",
       "3      Merche Prada      Merche_Prada@gmail.com  Septiembre     18/09/2023   \n",
       "4      Pilar Abella      Pilar_Abella@gmail.com  Septiembre     18/09/2023   \n",
       "\n",
       "   Campus      Proyecto Calificación  \n",
       "0  Madrid  Proyecto_HLF         Apto  \n",
       "1  Madrid  Proyecto_HLF         Apto  \n",
       "2  Madrid  Proyecto_HLF         Apto  \n",
       "3  Madrid  Proyecto_HLF         Apto  \n",
       "4  Madrid  Proyecto_HLF         Apto  "
      ]
     },
     "execution_count": 60,
     "metadata": {},
     "output_type": "execute_result"
    }
   ],
   "source": [
    "total_clases.head()"
   ]
  },
  {
   "cell_type": "markdown",
   "metadata": {},
   "source": [
    "-------------------"
   ]
  },
  {
   "cell_type": "markdown",
   "metadata": {},
   "source": [
    "# **TABLAS**"
   ]
  },
  {
   "cell_type": "markdown",
   "metadata": {},
   "source": [
    "1. **ALUMNOS**"
   ]
  },
  {
   "cell_type": "code",
   "execution_count": 91,
   "metadata": {},
   "outputs": [],
   "source": [
    "alumnos = pd.DataFrame({\"Nombre\": total_clases[\"Nombre\"].unique(),\"Email\":total_clases[\"Email\"].unique()})\n",
    "alumnos.insert(0, 'id_alumnos', range(1, len(alumnos) + 1))"
   ]
  },
  {
   "cell_type": "code",
   "execution_count": 92,
   "metadata": {},
   "outputs": [
    {
     "data": {
      "text/html": [
       "<div>\n",
       "<style scoped>\n",
       "    .dataframe tbody tr th:only-of-type {\n",
       "        vertical-align: middle;\n",
       "    }\n",
       "\n",
       "    .dataframe tbody tr th {\n",
       "        vertical-align: top;\n",
       "    }\n",
       "\n",
       "    .dataframe thead th {\n",
       "        text-align: right;\n",
       "    }\n",
       "</style>\n",
       "<table border=\"1\" class=\"dataframe\">\n",
       "  <thead>\n",
       "    <tr style=\"text-align: right;\">\n",
       "      <th></th>\n",
       "      <th>id_alumnos</th>\n",
       "      <th>Nombre</th>\n",
       "      <th>Email</th>\n",
       "    </tr>\n",
       "  </thead>\n",
       "  <tbody>\n",
       "    <tr>\n",
       "      <th>0</th>\n",
       "      <td>1</td>\n",
       "      <td>Jafet Casals</td>\n",
       "      <td>Jafet_Casals@gmail.com</td>\n",
       "    </tr>\n",
       "    <tr>\n",
       "      <th>1</th>\n",
       "      <td>2</td>\n",
       "      <td>Jorge Manzanares</td>\n",
       "      <td>Jorge_Manzanares@gmail.com</td>\n",
       "    </tr>\n",
       "    <tr>\n",
       "      <th>2</th>\n",
       "      <td>3</td>\n",
       "      <td>Onofre Adadia</td>\n",
       "      <td>Onofre_Adadia@gmail.com</td>\n",
       "    </tr>\n",
       "    <tr>\n",
       "      <th>3</th>\n",
       "      <td>4</td>\n",
       "      <td>Merche Prada</td>\n",
       "      <td>Merche_Prada@gmail.com</td>\n",
       "    </tr>\n",
       "    <tr>\n",
       "      <th>4</th>\n",
       "      <td>5</td>\n",
       "      <td>Pilar Abella</td>\n",
       "      <td>Pilar_Abella@gmail.com</td>\n",
       "    </tr>\n",
       "  </tbody>\n",
       "</table>\n",
       "</div>"
      ],
      "text/plain": [
       "   id_alumnos            Nombre                       Email\n",
       "0           1      Jafet Casals      Jafet_Casals@gmail.com\n",
       "1           2  Jorge Manzanares  Jorge_Manzanares@gmail.com\n",
       "2           3     Onofre Adadia     Onofre_Adadia@gmail.com\n",
       "3           4      Merche Prada      Merche_Prada@gmail.com\n",
       "4           5      Pilar Abella      Pilar_Abella@gmail.com"
      ]
     },
     "execution_count": 92,
     "metadata": {},
     "output_type": "execute_result"
    }
   ],
   "source": [
    "alumnos.head()"
   ]
  },
  {
   "cell_type": "markdown",
   "metadata": {},
   "source": [
    "-------------------------"
   ]
  },
  {
   "cell_type": "markdown",
   "metadata": {},
   "source": [
    "2. **VERTICALES**"
   ]
  },
  {
   "cell_type": "code",
   "execution_count": 89,
   "metadata": {},
   "outputs": [],
   "source": [
    "verticales= pd.DataFrame({\"Nombre\":claus[\"Vertical\"].unique()})\n",
    "verticales.insert(0, 'id_verticales', range(1, len(verticales) + 1))"
   ]
  },
  {
   "cell_type": "code",
   "execution_count": 90,
   "metadata": {},
   "outputs": [
    {
     "data": {
      "text/html": [
       "<div>\n",
       "<style scoped>\n",
       "    .dataframe tbody tr th:only-of-type {\n",
       "        vertical-align: middle;\n",
       "    }\n",
       "\n",
       "    .dataframe tbody tr th {\n",
       "        vertical-align: top;\n",
       "    }\n",
       "\n",
       "    .dataframe thead th {\n",
       "        text-align: right;\n",
       "    }\n",
       "</style>\n",
       "<table border=\"1\" class=\"dataframe\">\n",
       "  <thead>\n",
       "    <tr style=\"text-align: right;\">\n",
       "      <th></th>\n",
       "      <th>id_verticales</th>\n",
       "      <th>Nombre</th>\n",
       "    </tr>\n",
       "  </thead>\n",
       "  <tbody>\n",
       "    <tr>\n",
       "      <th>0</th>\n",
       "      <td>1</td>\n",
       "      <td>DS</td>\n",
       "    </tr>\n",
       "    <tr>\n",
       "      <th>1</th>\n",
       "      <td>2</td>\n",
       "      <td>FS</td>\n",
       "    </tr>\n",
       "  </tbody>\n",
       "</table>\n",
       "</div>"
      ],
      "text/plain": [
       "   id_verticales Nombre\n",
       "0              1     DS\n",
       "1              2     FS"
      ]
     },
     "execution_count": 90,
     "metadata": {},
     "output_type": "execute_result"
    }
   ],
   "source": [
    "verticales.head()"
   ]
  },
  {
   "cell_type": "markdown",
   "metadata": {},
   "source": [
    "-----------------------------------"
   ]
  },
  {
   "cell_type": "markdown",
   "metadata": {},
   "source": [
    "3. **CAMPUS**"
   ]
  },
  {
   "cell_type": "code",
   "execution_count": 201,
   "metadata": {},
   "outputs": [],
   "source": [
    "campus= pd.DataFrame({\"Nombre\":total_clases[\"Campus\"].unique()})\n",
    "campus.insert(0, 'id_campus', range(1, len(campus) + 1))"
   ]
  },
  {
   "cell_type": "code",
   "execution_count": 202,
   "metadata": {},
   "outputs": [
    {
     "data": {
      "text/html": [
       "<div>\n",
       "<style scoped>\n",
       "    .dataframe tbody tr th:only-of-type {\n",
       "        vertical-align: middle;\n",
       "    }\n",
       "\n",
       "    .dataframe tbody tr th {\n",
       "        vertical-align: top;\n",
       "    }\n",
       "\n",
       "    .dataframe thead th {\n",
       "        text-align: right;\n",
       "    }\n",
       "</style>\n",
       "<table border=\"1\" class=\"dataframe\">\n",
       "  <thead>\n",
       "    <tr style=\"text-align: right;\">\n",
       "      <th></th>\n",
       "      <th>id_campus</th>\n",
       "      <th>Nombre</th>\n",
       "    </tr>\n",
       "  </thead>\n",
       "  <tbody>\n",
       "    <tr>\n",
       "      <th>0</th>\n",
       "      <td>1</td>\n",
       "      <td>Madrid</td>\n",
       "    </tr>\n",
       "    <tr>\n",
       "      <th>1</th>\n",
       "      <td>2</td>\n",
       "      <td>Valencia</td>\n",
       "    </tr>\n",
       "  </tbody>\n",
       "</table>\n",
       "</div>"
      ],
      "text/plain": [
       "   id_campus    Nombre\n",
       "0          1    Madrid\n",
       "1          2  Valencia"
      ]
     },
     "execution_count": 202,
     "metadata": {},
     "output_type": "execute_result"
    }
   ],
   "source": [
    "campus.head()"
   ]
  },
  {
   "cell_type": "markdown",
   "metadata": {},
   "source": [
    "-----------------------"
   ]
  },
  {
   "cell_type": "markdown",
   "metadata": {},
   "source": [
    "4. **CLAUSTRO**"
   ]
  },
  {
   "cell_type": "code",
   "execution_count": 184,
   "metadata": {},
   "outputs": [],
   "source": [
    "claustro1=pd.DataFrame({\"nombre\":claus[\"Nombre\"],\"vertical\":claus[\"Vertical\"],\"Rol\":claus[\"Rol\"]})\n",
    "claustro1.insert(0, 'id_profesor', range(1, len(claustro1) + 1))"
   ]
  },
  {
   "cell_type": "code",
   "execution_count": 186,
   "metadata": {},
   "outputs": [
    {
     "data": {
      "text/html": [
       "<div>\n",
       "<style scoped>\n",
       "    .dataframe tbody tr th:only-of-type {\n",
       "        vertical-align: middle;\n",
       "    }\n",
       "\n",
       "    .dataframe tbody tr th {\n",
       "        vertical-align: top;\n",
       "    }\n",
       "\n",
       "    .dataframe thead th {\n",
       "        text-align: right;\n",
       "    }\n",
       "</style>\n",
       "<table border=\"1\" class=\"dataframe\">\n",
       "  <thead>\n",
       "    <tr style=\"text-align: right;\">\n",
       "      <th></th>\n",
       "      <th>id_profesor</th>\n",
       "      <th>nombre</th>\n",
       "      <th>id_verticales</th>\n",
       "      <th>Rol</th>\n",
       "    </tr>\n",
       "  </thead>\n",
       "  <tbody>\n",
       "    <tr>\n",
       "      <th>0</th>\n",
       "      <td>1</td>\n",
       "      <td>Noa Yáñez</td>\n",
       "      <td>1</td>\n",
       "      <td>TA</td>\n",
       "    </tr>\n",
       "    <tr>\n",
       "      <th>1</th>\n",
       "      <td>2</td>\n",
       "      <td>Saturnina Benitez</td>\n",
       "      <td>1</td>\n",
       "      <td>TA</td>\n",
       "    </tr>\n",
       "    <tr>\n",
       "      <th>2</th>\n",
       "      <td>3</td>\n",
       "      <td>Anna Feliu</td>\n",
       "      <td>2</td>\n",
       "      <td>TA</td>\n",
       "    </tr>\n",
       "    <tr>\n",
       "      <th>3</th>\n",
       "      <td>4</td>\n",
       "      <td>Rosalva Ayuso</td>\n",
       "      <td>2</td>\n",
       "      <td>TA</td>\n",
       "    </tr>\n",
       "    <tr>\n",
       "      <th>4</th>\n",
       "      <td>5</td>\n",
       "      <td>Ana Sofía Ferrer</td>\n",
       "      <td>2</td>\n",
       "      <td>TA</td>\n",
       "    </tr>\n",
       "    <tr>\n",
       "      <th>5</th>\n",
       "      <td>6</td>\n",
       "      <td>Angélica Corral</td>\n",
       "      <td>2</td>\n",
       "      <td>TA</td>\n",
       "    </tr>\n",
       "    <tr>\n",
       "      <th>6</th>\n",
       "      <td>7</td>\n",
       "      <td>Ariel Lledó</td>\n",
       "      <td>1</td>\n",
       "      <td>TA</td>\n",
       "    </tr>\n",
       "    <tr>\n",
       "      <th>7</th>\n",
       "      <td>8</td>\n",
       "      <td>Mario Prats</td>\n",
       "      <td>2</td>\n",
       "      <td>LI</td>\n",
       "    </tr>\n",
       "    <tr>\n",
       "      <th>8</th>\n",
       "      <td>9</td>\n",
       "      <td>Luis Ángel Suárez</td>\n",
       "      <td>2</td>\n",
       "      <td>LI</td>\n",
       "    </tr>\n",
       "    <tr>\n",
       "      <th>9</th>\n",
       "      <td>10</td>\n",
       "      <td>María Dolores Diaz</td>\n",
       "      <td>1</td>\n",
       "      <td>LI</td>\n",
       "    </tr>\n",
       "  </tbody>\n",
       "</table>\n",
       "</div>"
      ],
      "text/plain": [
       "   id_profesor              nombre  id_verticales Rol\n",
       "0            1           Noa Yáñez              1  TA\n",
       "1            2   Saturnina Benitez              1  TA\n",
       "2            3          Anna Feliu              2  TA\n",
       "3            4       Rosalva Ayuso              2  TA\n",
       "4            5    Ana Sofía Ferrer              2  TA\n",
       "5            6     Angélica Corral              2  TA\n",
       "6            7         Ariel Lledó              1  TA\n",
       "7            8         Mario Prats              2  LI\n",
       "8            9   Luis Ángel Suárez              2  LI\n",
       "9           10  María Dolores Diaz              1  LI"
      ]
     },
     "execution_count": 186,
     "metadata": {},
     "output_type": "execute_result"
    }
   ],
   "source": [
    "claustro = pd.merge(claustro1, verticales, left_on='vertical', right_on='Nombre', how='left')\n",
    "claustro= claustro.loc[:,[\"id_profesor\",\"nombre\",\"id_verticales\",\"Rol\"]]\n",
    "claustro"
   ]
  },
  {
   "cell_type": "markdown",
   "metadata": {},
   "source": [
    "-------------------------------"
   ]
  },
  {
   "cell_type": "markdown",
   "metadata": {},
   "source": [
    "5. **MODALIDAD**"
   ]
  },
  {
   "cell_type": "code",
   "execution_count": 97,
   "metadata": {},
   "outputs": [],
   "source": [
    "claus['Modalidad'] = claus['Modalidad'].replace({'Presencial': True, 'Online': False})#cambiamos a bool los datos\n"
   ]
  },
  {
   "cell_type": "code",
   "execution_count": 122,
   "metadata": {},
   "outputs": [],
   "source": [
    "modalidad=pd.DataFrame({\"Presencial\":claus['Modalidad'].unique()})\n",
    "modalidad.insert(0, 'id_modalidad', range(1, len(modalidad) + 1))\n",
    "modalidad['FullTime'] = [True,False]\n",
    "modalidad.insert(2, 'id_time', range(1, len(modalidad) + 1))"
   ]
  },
  {
   "cell_type": "code",
   "execution_count": 123,
   "metadata": {},
   "outputs": [
    {
     "data": {
      "text/html": [
       "<div>\n",
       "<style scoped>\n",
       "    .dataframe tbody tr th:only-of-type {\n",
       "        vertical-align: middle;\n",
       "    }\n",
       "\n",
       "    .dataframe tbody tr th {\n",
       "        vertical-align: top;\n",
       "    }\n",
       "\n",
       "    .dataframe thead th {\n",
       "        text-align: right;\n",
       "    }\n",
       "</style>\n",
       "<table border=\"1\" class=\"dataframe\">\n",
       "  <thead>\n",
       "    <tr style=\"text-align: right;\">\n",
       "      <th></th>\n",
       "      <th>id_modalidad</th>\n",
       "      <th>Presencial</th>\n",
       "      <th>id_time</th>\n",
       "      <th>FullTime</th>\n",
       "    </tr>\n",
       "  </thead>\n",
       "  <tbody>\n",
       "    <tr>\n",
       "      <th>0</th>\n",
       "      <td>1</td>\n",
       "      <td>True</td>\n",
       "      <td>1</td>\n",
       "      <td>True</td>\n",
       "    </tr>\n",
       "    <tr>\n",
       "      <th>1</th>\n",
       "      <td>2</td>\n",
       "      <td>False</td>\n",
       "      <td>2</td>\n",
       "      <td>False</td>\n",
       "    </tr>\n",
       "  </tbody>\n",
       "</table>\n",
       "</div>"
      ],
      "text/plain": [
       "   id_modalidad  Presencial  id_time  FullTime\n",
       "0             1        True        1      True\n",
       "1             2       False        2     False"
      ]
     },
     "execution_count": 123,
     "metadata": {},
     "output_type": "execute_result"
    }
   ],
   "source": [
    "modalidad"
   ]
  },
  {
   "cell_type": "markdown",
   "metadata": {},
   "source": [
    "----------------------------"
   ]
  },
  {
   "cell_type": "markdown",
   "metadata": {},
   "source": [
    "6. **PROYECTOS**"
   ]
  },
  {
   "cell_type": "code",
   "execution_count": 148,
   "metadata": {},
   "outputs": [],
   "source": [
    "vertical_rules = {\n",
    "    \"FS\": ['Proyecto_WebDev', 'Proyecto_FrontEnd', 'Proyecto_Backend', \n",
    "           'Proyecto_React', 'Proyecto_FullSatck'],\n",
    "    \"DS\": ['Proyecto_HLF', 'Proyecto_EDA', 'Proyecto_BBDD', 'Proyecto_ML',\n",
    "       'Proyecto_Deployment']\n",
    "}#si hay nuevos proyectos o nuevas verticales solo añadimos al diccionario"
   ]
  },
  {
   "cell_type": "code",
   "execution_count": 149,
   "metadata": {},
   "outputs": [],
   "source": [
    "def asignar_vertical(proyecto):\n",
    "    for vertical, proyectos in vertical_rules.items():\n",
    "        if proyecto in proyectos:\n",
    "            return vertical\n",
    "    return 'Desconocido'"
   ]
  },
  {
   "cell_type": "code",
   "execution_count": 150,
   "metadata": {},
   "outputs": [],
   "source": [
    "total_clases[\"Vertical\"] = total_clases[\"Proyecto\"].apply(asignar_vertical)"
   ]
  },
  {
   "cell_type": "code",
   "execution_count": 177,
   "metadata": {},
   "outputs": [],
   "source": [
    "proyectos1 = total_clases.groupby(\"Proyecto\")[\"Vertical\"].unique().reset_index()\n",
    "proyectos1[\"Vertical\"] = proyectos1[\"Vertical\"].str[0]#quitar corquetes de las listas generadas [DS]\n",
    "proyectos1.insert(0, 'id_proyecto', range(1, len(proyectos) + 1))"
   ]
  },
  {
   "cell_type": "code",
   "execution_count": 178,
   "metadata": {},
   "outputs": [
    {
     "data": {
      "text/html": [
       "<div>\n",
       "<style scoped>\n",
       "    .dataframe tbody tr th:only-of-type {\n",
       "        vertical-align: middle;\n",
       "    }\n",
       "\n",
       "    .dataframe tbody tr th {\n",
       "        vertical-align: top;\n",
       "    }\n",
       "\n",
       "    .dataframe thead th {\n",
       "        text-align: right;\n",
       "    }\n",
       "</style>\n",
       "<table border=\"1\" class=\"dataframe\">\n",
       "  <thead>\n",
       "    <tr style=\"text-align: right;\">\n",
       "      <th></th>\n",
       "      <th>id_proyecto</th>\n",
       "      <th>Proyecto</th>\n",
       "      <th>id_verticales</th>\n",
       "    </tr>\n",
       "  </thead>\n",
       "  <tbody>\n",
       "    <tr>\n",
       "      <th>0</th>\n",
       "      <td>1</td>\n",
       "      <td>Proyecto_BBDD</td>\n",
       "      <td>1</td>\n",
       "    </tr>\n",
       "    <tr>\n",
       "      <th>1</th>\n",
       "      <td>2</td>\n",
       "      <td>Proyecto_Backend</td>\n",
       "      <td>2</td>\n",
       "    </tr>\n",
       "    <tr>\n",
       "      <th>2</th>\n",
       "      <td>3</td>\n",
       "      <td>Proyecto_Deployment</td>\n",
       "      <td>1</td>\n",
       "    </tr>\n",
       "    <tr>\n",
       "      <th>3</th>\n",
       "      <td>4</td>\n",
       "      <td>Proyecto_EDA</td>\n",
       "      <td>1</td>\n",
       "    </tr>\n",
       "    <tr>\n",
       "      <th>4</th>\n",
       "      <td>5</td>\n",
       "      <td>Proyecto_FrontEnd</td>\n",
       "      <td>2</td>\n",
       "    </tr>\n",
       "    <tr>\n",
       "      <th>5</th>\n",
       "      <td>6</td>\n",
       "      <td>Proyecto_FullSatck</td>\n",
       "      <td>2</td>\n",
       "    </tr>\n",
       "    <tr>\n",
       "      <th>6</th>\n",
       "      <td>7</td>\n",
       "      <td>Proyecto_HLF</td>\n",
       "      <td>1</td>\n",
       "    </tr>\n",
       "    <tr>\n",
       "      <th>7</th>\n",
       "      <td>8</td>\n",
       "      <td>Proyecto_ML</td>\n",
       "      <td>1</td>\n",
       "    </tr>\n",
       "    <tr>\n",
       "      <th>8</th>\n",
       "      <td>9</td>\n",
       "      <td>Proyecto_React</td>\n",
       "      <td>2</td>\n",
       "    </tr>\n",
       "    <tr>\n",
       "      <th>9</th>\n",
       "      <td>10</td>\n",
       "      <td>Proyecto_WebDev</td>\n",
       "      <td>2</td>\n",
       "    </tr>\n",
       "  </tbody>\n",
       "</table>\n",
       "</div>"
      ],
      "text/plain": [
       "   id_proyecto             Proyecto  id_verticales\n",
       "0            1        Proyecto_BBDD              1\n",
       "1            2     Proyecto_Backend              2\n",
       "2            3  Proyecto_Deployment              1\n",
       "3            4         Proyecto_EDA              1\n",
       "4            5    Proyecto_FrontEnd              2\n",
       "5            6   Proyecto_FullSatck              2\n",
       "6            7         Proyecto_HLF              1\n",
       "7            8          Proyecto_ML              1\n",
       "8            9       Proyecto_React              2\n",
       "9           10      Proyecto_WebDev              2"
      ]
     },
     "execution_count": 178,
     "metadata": {},
     "output_type": "execute_result"
    }
   ],
   "source": [
    "proyectos = pd.merge(proyectos1, verticales, left_on='Vertical', right_on='Nombre', how='left')\n",
    "proyectos= proyectos.loc[:,[\"id_proyecto\",\"Proyecto\",\"id_verticales\"]]\n",
    "proyectos"
   ]
  },
  {
   "cell_type": "markdown",
   "metadata": {},
   "source": [
    "---------------------------"
   ]
  },
  {
   "cell_type": "markdown",
   "metadata": {},
   "source": [
    "7. **BOOTCAMP**"
   ]
  },
  {
   "cell_type": "code",
   "execution_count": 188,
   "metadata": {},
   "outputs": [
    {
     "data": {
      "text/html": [
       "<div>\n",
       "<style scoped>\n",
       "    .dataframe tbody tr th:only-of-type {\n",
       "        vertical-align: middle;\n",
       "    }\n",
       "\n",
       "    .dataframe tbody tr th {\n",
       "        vertical-align: top;\n",
       "    }\n",
       "\n",
       "    .dataframe thead th {\n",
       "        text-align: right;\n",
       "    }\n",
       "</style>\n",
       "<table border=\"1\" class=\"dataframe\">\n",
       "  <thead>\n",
       "    <tr style=\"text-align: right;\">\n",
       "      <th></th>\n",
       "      <th>Nombre</th>\n",
       "      <th>Email</th>\n",
       "      <th>Promoción</th>\n",
       "      <th>Fecha_comienzo</th>\n",
       "      <th>Campus</th>\n",
       "      <th>Proyecto</th>\n",
       "      <th>Calificación</th>\n",
       "      <th>Vertical</th>\n",
       "    </tr>\n",
       "  </thead>\n",
       "  <tbody>\n",
       "    <tr>\n",
       "      <th>0</th>\n",
       "      <td>Jafet Casals</td>\n",
       "      <td>Jafet_Casals@gmail.com</td>\n",
       "      <td>Septiembre</td>\n",
       "      <td>18/09/2023</td>\n",
       "      <td>Madrid</td>\n",
       "      <td>Proyecto_HLF</td>\n",
       "      <td>Apto</td>\n",
       "      <td>DS</td>\n",
       "    </tr>\n",
       "    <tr>\n",
       "      <th>1</th>\n",
       "      <td>Jorge Manzanares</td>\n",
       "      <td>Jorge_Manzanares@gmail.com</td>\n",
       "      <td>Septiembre</td>\n",
       "      <td>18/09/2023</td>\n",
       "      <td>Madrid</td>\n",
       "      <td>Proyecto_HLF</td>\n",
       "      <td>Apto</td>\n",
       "      <td>DS</td>\n",
       "    </tr>\n",
       "    <tr>\n",
       "      <th>2</th>\n",
       "      <td>Onofre Adadia</td>\n",
       "      <td>Onofre_Adadia@gmail.com</td>\n",
       "      <td>Septiembre</td>\n",
       "      <td>18/09/2023</td>\n",
       "      <td>Madrid</td>\n",
       "      <td>Proyecto_HLF</td>\n",
       "      <td>Apto</td>\n",
       "      <td>DS</td>\n",
       "    </tr>\n",
       "    <tr>\n",
       "      <th>3</th>\n",
       "      <td>Merche Prada</td>\n",
       "      <td>Merche_Prada@gmail.com</td>\n",
       "      <td>Septiembre</td>\n",
       "      <td>18/09/2023</td>\n",
       "      <td>Madrid</td>\n",
       "      <td>Proyecto_HLF</td>\n",
       "      <td>Apto</td>\n",
       "      <td>DS</td>\n",
       "    </tr>\n",
       "    <tr>\n",
       "      <th>4</th>\n",
       "      <td>Pilar Abella</td>\n",
       "      <td>Pilar_Abella@gmail.com</td>\n",
       "      <td>Septiembre</td>\n",
       "      <td>18/09/2023</td>\n",
       "      <td>Madrid</td>\n",
       "      <td>Proyecto_HLF</td>\n",
       "      <td>Apto</td>\n",
       "      <td>DS</td>\n",
       "    </tr>\n",
       "  </tbody>\n",
       "</table>\n",
       "</div>"
      ],
      "text/plain": [
       "             Nombre                       Email   Promoción Fecha_comienzo  \\\n",
       "0      Jafet Casals      Jafet_Casals@gmail.com  Septiembre     18/09/2023   \n",
       "1  Jorge Manzanares  Jorge_Manzanares@gmail.com  Septiembre     18/09/2023   \n",
       "2     Onofre Adadia     Onofre_Adadia@gmail.com  Septiembre     18/09/2023   \n",
       "3      Merche Prada      Merche_Prada@gmail.com  Septiembre     18/09/2023   \n",
       "4      Pilar Abella      Pilar_Abella@gmail.com  Septiembre     18/09/2023   \n",
       "\n",
       "   Campus      Proyecto Calificación Vertical  \n",
       "0  Madrid  Proyecto_HLF         Apto       DS  \n",
       "1  Madrid  Proyecto_HLF         Apto       DS  \n",
       "2  Madrid  Proyecto_HLF         Apto       DS  \n",
       "3  Madrid  Proyecto_HLF         Apto       DS  \n",
       "4  Madrid  Proyecto_HLF         Apto       DS  "
      ]
     },
     "execution_count": 188,
     "metadata": {},
     "output_type": "execute_result"
    }
   ],
   "source": [
    "total_clases.head()"
   ]
  },
  {
   "cell_type": "code",
   "execution_count": 196,
   "metadata": {},
   "outputs": [],
   "source": [
    "bootcamp1=pd.DataFrame({\"Promocion\":total_clases[\"Promoción\"],\"F_comienzo\":total_clases[\"Fecha_comienzo\"],\n",
    "                        \"campus\":total_clases[\"Campus\"],\"vertical\":total_clases[\"Vertical\"]})\n",
    "bootcamp1.insert(0, 'id_bootcamp', range(1, len(bootcamp1) + 1))"
   ]
  },
  {
   "cell_type": "code",
   "execution_count": 209,
   "metadata": {},
   "outputs": [
    {
     "data": {
      "text/html": [
       "<div>\n",
       "<style scoped>\n",
       "    .dataframe tbody tr th:only-of-type {\n",
       "        vertical-align: middle;\n",
       "    }\n",
       "\n",
       "    .dataframe tbody tr th {\n",
       "        vertical-align: top;\n",
       "    }\n",
       "\n",
       "    .dataframe thead th {\n",
       "        text-align: right;\n",
       "    }\n",
       "</style>\n",
       "<table border=\"1\" class=\"dataframe\">\n",
       "  <thead>\n",
       "    <tr style=\"text-align: right;\">\n",
       "      <th></th>\n",
       "      <th>id_bootcamp</th>\n",
       "      <th>Promocion</th>\n",
       "      <th>F_comienzo</th>\n",
       "      <th>id_campus</th>\n",
       "      <th>id_verticales</th>\n",
       "    </tr>\n",
       "  </thead>\n",
       "  <tbody>\n",
       "    <tr>\n",
       "      <th>0</th>\n",
       "      <td>1</td>\n",
       "      <td>Septiembre</td>\n",
       "      <td>18/09/2023</td>\n",
       "      <td>1</td>\n",
       "      <td>1</td>\n",
       "    </tr>\n",
       "    <tr>\n",
       "      <th>1</th>\n",
       "      <td>2</td>\n",
       "      <td>Septiembre</td>\n",
       "      <td>18/09/2023</td>\n",
       "      <td>1</td>\n",
       "      <td>1</td>\n",
       "    </tr>\n",
       "    <tr>\n",
       "      <th>2</th>\n",
       "      <td>3</td>\n",
       "      <td>Septiembre</td>\n",
       "      <td>18/09/2023</td>\n",
       "      <td>1</td>\n",
       "      <td>1</td>\n",
       "    </tr>\n",
       "    <tr>\n",
       "      <th>3</th>\n",
       "      <td>4</td>\n",
       "      <td>Septiembre</td>\n",
       "      <td>18/09/2023</td>\n",
       "      <td>1</td>\n",
       "      <td>1</td>\n",
       "    </tr>\n",
       "    <tr>\n",
       "      <th>4</th>\n",
       "      <td>5</td>\n",
       "      <td>Septiembre</td>\n",
       "      <td>18/09/2023</td>\n",
       "      <td>1</td>\n",
       "      <td>1</td>\n",
       "    </tr>\n",
       "    <tr>\n",
       "      <th>...</th>\n",
       "      <td>...</td>\n",
       "      <td>...</td>\n",
       "      <td>...</td>\n",
       "      <td>...</td>\n",
       "      <td>...</td>\n",
       "    </tr>\n",
       "    <tr>\n",
       "      <th>255</th>\n",
       "      <td>256</td>\n",
       "      <td>Febrero</td>\n",
       "      <td>12/02/2024</td>\n",
       "      <td>2</td>\n",
       "      <td>2</td>\n",
       "    </tr>\n",
       "    <tr>\n",
       "      <th>256</th>\n",
       "      <td>257</td>\n",
       "      <td>Febrero</td>\n",
       "      <td>12/02/2024</td>\n",
       "      <td>2</td>\n",
       "      <td>2</td>\n",
       "    </tr>\n",
       "    <tr>\n",
       "      <th>257</th>\n",
       "      <td>258</td>\n",
       "      <td>Febrero</td>\n",
       "      <td>12/02/2024</td>\n",
       "      <td>2</td>\n",
       "      <td>2</td>\n",
       "    </tr>\n",
       "    <tr>\n",
       "      <th>258</th>\n",
       "      <td>259</td>\n",
       "      <td>Febrero</td>\n",
       "      <td>12/02/2024</td>\n",
       "      <td>2</td>\n",
       "      <td>2</td>\n",
       "    </tr>\n",
       "    <tr>\n",
       "      <th>259</th>\n",
       "      <td>260</td>\n",
       "      <td>Febrero</td>\n",
       "      <td>12/02/2024</td>\n",
       "      <td>2</td>\n",
       "      <td>2</td>\n",
       "    </tr>\n",
       "  </tbody>\n",
       "</table>\n",
       "<p>260 rows × 5 columns</p>\n",
       "</div>"
      ],
      "text/plain": [
       "     id_bootcamp   Promocion  F_comienzo  id_campus  id_verticales\n",
       "0              1  Septiembre  18/09/2023          1              1\n",
       "1              2  Septiembre  18/09/2023          1              1\n",
       "2              3  Septiembre  18/09/2023          1              1\n",
       "3              4  Septiembre  18/09/2023          1              1\n",
       "4              5  Septiembre  18/09/2023          1              1\n",
       "..           ...         ...         ...        ...            ...\n",
       "255          256     Febrero  12/02/2024          2              2\n",
       "256          257     Febrero  12/02/2024          2              2\n",
       "257          258     Febrero  12/02/2024          2              2\n",
       "258          259     Febrero  12/02/2024          2              2\n",
       "259          260     Febrero  12/02/2024          2              2\n",
       "\n",
       "[260 rows x 5 columns]"
      ]
     },
     "execution_count": 209,
     "metadata": {},
     "output_type": "execute_result"
    }
   ],
   "source": [
    "bootcamp= pd.merge(bootcamp1, verticales, left_on='vertical', right_on='Nombre', how='left')\n",
    "bootcamp= pd.merge(bootcamp, campus, left_on='campus', right_on='Nombre', how='left')\n",
    "bootcamp=bootcamp.loc[:,[\"id_bootcamp\",\"Promocion\",\"F_comienzo\",\"id_campus\",\"id_verticales\"]]\n",
    "\n",
    "bootcamp"
   ]
  }
 ],
 "metadata": {
  "kernelspec": {
   "display_name": "Python 3",
   "language": "python",
   "name": "python3"
  },
  "language_info": {
   "codemirror_mode": {
    "name": "ipython",
    "version": 3
   },
   "file_extension": ".py",
   "mimetype": "text/x-python",
   "name": "python",
   "nbconvert_exporter": "python",
   "pygments_lexer": "ipython3",
   "version": "3.12.6"
  }
 },
 "nbformat": 4,
 "nbformat_minor": 2
}
