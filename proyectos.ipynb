{
 "cells": [
  {
   "cell_type": "code",
   "execution_count": null,
   "metadata": {},
   "outputs": [],
   "source": [
    "nombres_proyectos=total_clases[\"Proyecto\"].unique()"
   ]
  },
  {
   "cell_type": "code",
   "execution_count": null,
   "metadata": {},
   "outputs": [],
   "source": [
    "proy_data=['Proyecto_HLF', 'Proyecto_EDA', 'Proyecto_BBDD', 'Proyecto_ML',\n",
    "       'Proyecto_Deployment']"
   ]
  },
  {
   "cell_type": "code",
   "execution_count": null,
   "metadata": {},
   "outputs": [],
   "source": [
    "proy_fs=['Proyecto_WebDev', 'Proyecto_FrontEnd', 'Proyecto_Backend',\n",
    "       'Proyecto_React', 'Proyecto_FullSatck']"
   ]
  },
  {
   "cell_type": "code",
   "execution_count": null,
   "metadata": {},
   "outputs": [],
   "source": [
    "def proyect_vert(vertical, proy_mod):\n",
    "    listaproyectos = proy_mod\n",
    "    df = pd.DataFrame({\"Proyecto\": listaproyectos, \"Vertical\": [vertical] * len(listaproyectos)})\n",
    "    return df"
   ]
  },
  {
   "cell_type": "code",
   "execution_count": null,
   "metadata": {},
   "outputs": [],
   "source": [
    "proy_ds=proyect_vert(verticales.iloc[0,1],nombres_proyectos[:4])"
   ]
  }
 ],
 "metadata": {
  "kernelspec": {
   "display_name": "Python 3",
   "language": "python",
   "name": "python3"
  },
  "language_info": {
   "name": "python",
   "version": "3.12.6"
  }
 },
 "nbformat": 4,
 "nbformat_minor": 2
}
